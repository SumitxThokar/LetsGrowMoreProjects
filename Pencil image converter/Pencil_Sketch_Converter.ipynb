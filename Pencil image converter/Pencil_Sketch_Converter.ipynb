{
 "cells": [
  {
   "cell_type": "markdown",
   "id": "483114c2",
   "metadata": {},
   "source": [
    "# Image to Pencil Sketch "
   ]
  },
  {
   "cell_type": "code",
   "execution_count": 1,
   "id": "40ba99c3",
   "metadata": {},
   "outputs": [
    {
     "name": "stdout",
     "output_type": "stream",
     "text": [
      "Requirement already satisfied: opencv-python in c:\\users\\rckzs\\appdata\\local\\programs\\python\\python310\\lib\\site-packages (4.7.0.68)\n",
      "Requirement already satisfied: numpy>=1.19.3 in c:\\users\\rckzs\\appdata\\local\\programs\\python\\python310\\lib\\site-packages (from opencv-python) (1.23.1)\n",
      "Successfully installed.\n"
     ]
    },
    {
     "name": "stderr",
     "output_type": "stream",
     "text": [
      "WARNING: You are using pip version 22.0.4; however, version 22.3.1 is available.\n",
      "You should consider upgrading via the 'C:\\Users\\rckzs\\AppData\\Local\\Programs\\Python\\Python310\\python.exe -m pip install --upgrade pip' command.\n"
     ]
    }
   ],
   "source": [
    "# Importing necessary libraries\n",
    "!pip install opencv-python\n",
    "print(\"Successfully installed.\")"
   ]
  },
  {
   "cell_type": "markdown",
   "id": "597c7205",
   "metadata": {},
   "source": [
    "**opencv** is a python library used for image processing and computer vision tasks.\n"
   ]
  },
  {
   "cell_type": "code",
   "execution_count": 2,
   "id": "82cd2e14",
   "metadata": {},
   "outputs": [],
   "source": [
    "#importing necessary libraries\n",
    "import cv2"
   ]
  },
  {
   "cell_type": "code",
   "execution_count": 3,
   "id": "56e57d24",
   "metadata": {},
   "outputs": [],
   "source": [
    "#Read image\n",
    "img=cv2.imread(\"spider.jpg\")"
   ]
  },
  {
   "cell_type": "code",
   "execution_count": 4,
   "id": "3fa38a96",
   "metadata": {},
   "outputs": [],
   "source": [
    "#Converting the image into grey.\n",
    "grey=cv2.cvtColor(img,cv2.COLOR_BGR2GRAY)"
   ]
  },
  {
   "cell_type": "code",
   "execution_count": 5,
   "id": "ab55873a",
   "metadata": {},
   "outputs": [],
   "source": [
    "# Converting the grey image into invert image.\n",
    "invert=cv2.bitwise_not(grey)"
   ]
  },
  {
   "cell_type": "code",
   "execution_count": 6,
   "id": "18b36fa0",
   "metadata": {},
   "outputs": [],
   "source": [
    "# Adding blur in the grey inverted image.\n",
    "blur=cv2.GaussianBlur(invert,(23,23),0)"
   ]
  },
  {
   "cell_type": "code",
   "execution_count": 7,
   "id": "bf8a1919",
   "metadata": {},
   "outputs": [],
   "source": [
    "# Again inverting the blured image.\n",
    "ib=cv2.bitwise_not(blur)"
   ]
  },
  {
   "cell_type": "code",
   "execution_count": 8,
   "id": "66819802",
   "metadata": {},
   "outputs": [],
   "source": [
    "# Finally converting into sketch filter.\n",
    "sketch=cv2.divide(grey,ib,scale=(256))"
   ]
  },
  {
   "cell_type": "code",
   "execution_count": 9,
   "id": "e49bb5ea",
   "metadata": {},
   "outputs": [
    {
     "data": {
      "text/plain": [
       "True"
      ]
     },
     "execution_count": 9,
     "metadata": {},
     "output_type": "execute_result"
    }
   ],
   "source": [
    "# Output\n",
    "cv2.imwrite(\"Sketch.png\",sketch)"
   ]
  }
 ],
 "metadata": {
  "kernelspec": {
   "display_name": "Python 3 (ipykernel)",
   "language": "python",
   "name": "python3"
  },
  "language_info": {
   "codemirror_mode": {
    "name": "ipython",
    "version": 3
   },
   "file_extension": ".py",
   "mimetype": "text/x-python",
   "name": "python",
   "nbconvert_exporter": "python",
   "pygments_lexer": "ipython3",
   "version": "3.10.4"
  }
 },
 "nbformat": 4,
 "nbformat_minor": 5
}
